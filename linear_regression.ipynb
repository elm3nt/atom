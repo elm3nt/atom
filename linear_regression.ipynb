{
 "cells": [
  {
   "cell_type": "code",
   "execution_count": null,
   "metadata": {},
   "outputs": [],
   "source": [
    "!pip install pandas matplotlib sklearn numpy"
   ]
  },
  {
   "cell_type": "code",
   "execution_count": 3,
   "metadata": {},
   "outputs": [
    {
     "name": "stdout",
     "output_type": "stream",
     "text": [
      "file size = 17591, acutal time = 1.98, predict time = 2.15, accuracy = 91.41%, error = 8.59%\n"
     ]
    },
    {
     "data": {
      "image/png": "[encoded data removed]",
      "text/plain": [
       "<Figure size 432x288 with 1 Axes>"
      ]
     },
     "metadata": {
      "needs_background": "light"
     },
     "output_type": "display_data"
    }
   ],
   "source": [
    "%matplotlib inline\n",
    "\n",
    "import pandas as pd\n",
    "import matplotlib.pyplot as plt \n",
    "import numpy as np \n",
    "from sklearn import datasets, linear_model, metrics \n",
    "\n",
    "df = pd.read_csv('pass.csv', header=0, dtype={\n",
    "    'file_name': str,\n",
    "    'file_size': int,\n",
    "    'run_time': float,\n",
    "    'time_taken_angr': float,\n",
    "    'time_taken_klee': float,\n",
    "    'passwords': str,\n",
    "    'is_password_cracked_by_angr': bool,\n",
    "    'password_generated_by_angr': str,\n",
    "    'is_password_cracked_by_klee': bool,\n",
    "    'password_generated_by_klee': str,\n",
    "    'file_path': str\n",
    "})\n",
    "\n",
    "df[['_' ,'_' , '_', '_', '_', '_', '_', '_', 'combination', 'obfuscation', '_']] = df.file_path.str.split('/', expand=True)\n",
    "\n",
    "df.combination = df.combination.astype('category')\n",
    "df.obfuscation = df.obfuscation.astype('category')\n",
    "\n",
    "# Load CSV and columns\n",
    "Y = df[(df.combination == 'pass9') & (df.obfuscation == 'D')].time_taken_klee\n",
    "X = df[(df.combination == 'pass9') & (df.obfuscation == 'D')].file_size\n",
    "\n",
    "X=X.values.reshape(len(X),1)\n",
    "Y=Y.values.reshape(len(Y),1)\n",
    "\n",
    "sample_size = 99\n",
    "# Split the data into training/testing sets\n",
    "X_train = X[:-sample_size]\n",
    "X_test = X[-sample_size:]\n",
    "\n",
    "# Split the targets into training/testing sets\n",
    "Y_train = Y[:-sample_size]\n",
    "Y_test = Y[-sample_size:]\n",
    "\n",
    "# Plot outputs\n",
    "plt.scatter(X_test, Y_test,  color='#f39c12')\n",
    "\n",
    "plt.title('Obfuscation executive - D')\n",
    "plt.xlabel('File size')\n",
    "plt.ylabel('Time taken to crack by Klee')\n",
    "\n",
    "\n",
    "regr = linear_model.LinearRegression()\n",
    "\n",
    "# Train the model using the training sets\n",
    "regr.fit(X_train, Y_train)\n",
    "\n",
    "# Plot outputs\n",
    "plt.plot(X_test, regr.predict(X_test), color='#c0392b',linewidth=2)\n",
    "#plt.show()\n",
    "\n",
    "def stats(file_size, actual_time):\n",
    "    predict_time = regr.predict([[file_size]])[0][0]\n",
    "    error = (predict_time - actual_time) / actual_time * 100\n",
    "    accuracy = 100 - error\n",
    "    print('file size = {}, acutal time = {:.2f}, predict time = {:.2f}, accuracy = {:.2f}%, error = {:.2f}%'.format(\n",
    "        file_size, actual_time, predict_time, accuracy, error\n",
    "    )) \n",
    "\n",
    "stats(17591, 1.98)"
   ]
  },
  {
   "cell_type": "code",
   "execution_count": 4,
   "metadata": {},
   "outputs": [
    {
     "name": "stdout",
     "output_type": "stream",
     "text": [
      "file size = 165028, acutal time = 3.20, predict time = 2.59, accuracy = 119.06%, error = -19.06%\n"
     ]
    },
    {
     "data": {
      "image/png": "[encoded data removed]",
      "text/plain": [
       "<Figure size 432x288 with 1 Axes>"
      ]
     },
     "metadata": {
      "needs_background": "light"
     },
     "output_type": "display_data"
    }
   ],
   "source": [
    "%matplotlib inline\n",
    "\n",
    "import pandas as pd\n",
    "import matplotlib.pyplot as plt \n",
    "import numpy as np \n",
    "from sklearn import datasets, linear_model, metrics \n",
    "\n",
    "df = pd.read_csv('pass.csv', header=0, dtype={\n",
    "    'file_name': str,\n",
    "    'file_size': int,\n",
    "    'run_time': float,\n",
    "    'time_taken_angr': float,\n",
    "    'time_taken_klee': float,\n",
    "    'passwords': str,\n",
    "    'is_password_cracked_by_angr': bool,\n",
    "    'password_generated_by_angr': str,\n",
    "    'is_password_cracked_by_klee': bool,\n",
    "    'password_generated_by_klee': str,\n",
    "    'file_path': str\n",
    "})\n",
    "\n",
    "df[['_' ,'_' , '_', '_', '_', '_', '_', '_', 'combination', 'obfuscation', '_']] = df.file_path.str.split('/', expand=True)\n",
    "\n",
    "df.combination = df.combination.astype('category')\n",
    "df.obfuscation = df.obfuscation.astype('category')\n",
    "\n",
    "# Load CSV and columns\n",
    "Y = df[(df.combination == 'pass9') & (df.obfuscation == 'CAD')].time_taken_klee\n",
    "X = df[(df.combination == 'pass9') & (df.obfuscation == 'CAD')].file_size\n",
    "\n",
    "X=X.values.reshape(len(X),1)\n",
    "Y=Y.values.reshape(len(Y),1)\n",
    "\n",
    "sample_size = 99\n",
    "# Split the data into training/testing sets\n",
    "X_train = X[:-sample_size]\n",
    "X_test = X[-sample_size:]\n",
    "\n",
    "# Split the targets into training/testing sets\n",
    "Y_train = Y[:-sample_size]\n",
    "Y_test = Y[-sample_size:]\n",
    "\n",
    "# Plot outputs\n",
    "plt.scatter(X_test, Y_test,  color='#f39c12')\n",
    "\n",
    "plt.title('Obfuscation executive - CAD')\n",
    "plt.xlabel('File size')\n",
    "plt.ylabel('Time taken to crack by Klee')\n",
    "\n",
    "\n",
    "regr = linear_model.LinearRegression()\n",
    "\n",
    "# Train the model using the training sets\n",
    "regr.fit(X_train, Y_train)\n",
    "\n",
    "# Plot outputs\n",
    "plt.plot(X_test, regr.predict(X_test), color='#c0392b',linewidth=2)\n",
    "#plt.show()\n",
    "\n",
    "def stats(file_size, actual_time):\n",
    "    predict_time = regr.predict([[file_size]])[0][0]\n",
    "    error = (predict_time - actual_time) / actual_time * 100\n",
    "    accuracy = 100 - error\n",
    "    print('file size = {}, acutal time = {:.2f}, predict time = {:.2f}, accuracy = {:.2f}%, error = {:.2f}%'.format(\n",
    "        file_size, actual_time, predict_time, accuracy, error\n",
    "    )) \n",
    "\n",
    "stats(165028, 3.20)\n"
   ]
  },
  {
   "cell_type": "code",
   "execution_count": 5,
   "metadata": {},
   "outputs": [
    {
     "name": "stdout",
     "output_type": "stream",
     "text": [
      "file size = 4242392, acutal time = 11.50, predict time = 13.98, accuracy = 78.43%, error = 21.57%\n"
     ]
    },
    {
     "data": {
      "image/png": "[encoded data removed]",
      "text/plain": [
       "<Figure size 432x288 with 1 Axes>"
      ]
     },
     "metadata": {
      "needs_background": "light"
     },
     "output_type": "display_data"
    }
   ],
   "source": [
    "%matplotlib inline\n",
    "\n",
    "import pandas as pd\n",
    "import matplotlib.pyplot as plt \n",
    "import numpy as np \n",
    "from sklearn import datasets, linear_model, metrics \n",
    "\n",
    "df = pd.read_csv('pass.csv', header=0, dtype={\n",
    "    'file_name': str,\n",
    "    'file_size': int,\n",
    "    'run_time': float,\n",
    "    'time_taken_angr': float,\n",
    "    'time_taken_klee': float,\n",
    "    'passwords': str,\n",
    "    'is_password_cracked_by_angr': bool,\n",
    "    'password_generated_by_angr': str,\n",
    "    'is_password_cracked_by_klee': bool,\n",
    "    'password_generated_by_klee': str,\n",
    "    'file_path': str\n",
    "})\n",
    "\n",
    "df[['_' ,'_' , '_', '_', '_', '_', '_', '_', 'combination', 'obfuscation', '_']] = df.file_path.str.split('/', expand=True)\n",
    "\n",
    "df.combination = df.combination.astype('category')\n",
    "df.obfuscation = df.obfuscation.astype('category')\n",
    "\n",
    "# Load CSV and columns\n",
    "Y = df[(df.combination == 'pass9') & (df.obfuscation == 'VACD')].time_taken_klee\n",
    "X = df[(df.combination == 'pass9') & (df.obfuscation == 'VACD')].file_size\n",
    "\n",
    "X=X.values.reshape(len(X),1)\n",
    "Y=Y.values.reshape(len(Y),1)\n",
    "\n",
    "sample_size = 99\n",
    "# Split the data into training/testing sets\n",
    "X_train = X[:-sample_size]\n",
    "X_test = X[-sample_size:]\n",
    "\n",
    "# Split the targets into training/testing sets\n",
    "Y_train = Y[:-sample_size]\n",
    "Y_test = Y[-sample_size:]\n",
    "\n",
    "# Plot outputs\n",
    "plt.scatter(X_test, Y_test,  color='#f39c12')\n",
    "\n",
    "plt.title('Obfuscation executive - VACD')\n",
    "plt.xlabel('File size')\n",
    "plt.ylabel('Time taken to crack by Klee')\n",
    "\n",
    "\n",
    "regr = linear_model.LinearRegression()\n",
    "\n",
    "# Train the model using the training sets\n",
    "regr.fit(X_train, Y_train)\n",
    "\n",
    "# Plot outputs\n",
    "plt.plot(X_test, regr.predict(X_test), color='#c0392b',linewidth=2)\n",
    "#plt.show()\n",
    "\n",
    "def stats(file_size, actual_time):\n",
    "    predict_time = regr.predict([[file_size]])[0][0]\n",
    "    error = (predict_time - actual_time) / actual_time * 100\n",
    "    accuracy = 100 - error\n",
    "    print('file size = {}, acutal time = {:.2f}, predict time = {:.2f}, accuracy = {:.2f}%, error = {:.2f}%'.format(\n",
    "        file_size, actual_time, predict_time, accuracy, error\n",
    "    )) \n",
    "\n",
    "stats(4242392, 11.50)\n"
   ]
  },
  {
   "cell_type": "code",
   "execution_count": 6,
   "metadata": {},
   "outputs": [
    {
     "name": "stdout",
     "output_type": "stream",
     "text": [
      "file size = 17591, acutal time = 2.58, predict time = 2.91, accuracy = 87.37%, error = 12.63%\n"
     ]
    },
    {
     "data": {
      "image/png": "[encoded data removed]",
      "text/plain": [
       "<Figure size 432x288 with 1 Axes>"
      ]
     },
     "metadata": {
      "needs_background": "light"
     },
     "output_type": "display_data"
    }
   ],
   "source": [
    "%matplotlib inline\n",
    "\n",
    "import pandas as pd\n",
    "import matplotlib.pyplot as plt \n",
    "import numpy as np \n",
    "from sklearn import datasets, linear_model, metrics \n",
    "\n",
    "df = pd.read_csv('pass.csv', header=0, dtype={\n",
    "    'file_name': str,\n",
    "    'file_size': int,\n",
    "    'run_time': float,\n",
    "    'time_taken_angr': float,\n",
    "    'time_taken_klee': float,\n",
    "    'passwords': str,\n",
    "    'is_password_cracked_by_angr': bool,\n",
    "    'password_generated_by_angr': str,\n",
    "    'is_password_cracked_by_klee': bool,\n",
    "    'password_generated_by_klee': str,\n",
    "    'file_path': str\n",
    "})\n",
    "\n",
    "df[['_' ,'_' , '_', '_', '_', '_', '_', '_', 'combination', 'obfuscation', '_']] = df.file_path.str.split('/', expand=True)\n",
    "\n",
    "df.combination = df.combination.astype('category')\n",
    "df.obfuscation = df.obfuscation.astype('category')\n",
    "\n",
    "# Load CSV and columns\n",
    "Y = df[(df.combination == 'pass9') & (df.obfuscation == 'D')].time_taken_angr\n",
    "X = df[(df.combination == 'pass9') & (df.obfuscation == 'D')].file_size\n",
    "\n",
    "X=X.values.reshape(len(X),1)\n",
    "Y=Y.values.reshape(len(Y),1)\n",
    "\n",
    "sample_size = 99\n",
    "# Split the data into training/testing sets\n",
    "X_train = X[:-sample_size]\n",
    "X_test = X[-sample_size:]\n",
    "\n",
    "# Split the targets into training/testing sets\n",
    "Y_train = Y[:-sample_size]\n",
    "Y_test = Y[-sample_size:]\n",
    "\n",
    "# Plot outputs\n",
    "plt.scatter(X_test, Y_test,  color='#f39c12')\n",
    "\n",
    "plt.title('Obfuscation executive - D')\n",
    "plt.xlabel('File size')\n",
    "plt.ylabel('Time taken to crack by Angr')\n",
    "\n",
    "\n",
    "regr = linear_model.LinearRegression()\n",
    "\n",
    "# Train the model using the training sets\n",
    "regr.fit(X_train, Y_train)\n",
    "\n",
    "# Plot outputs\n",
    "plt.plot(X_test, regr.predict(X_test), color='#c0392b',linewidth=2)\n",
    "#plt.show()\n",
    "\n",
    "def stats(file_size, actual_time):\n",
    "    predict_time = regr.predict([[file_size]])[0][0]\n",
    "    error = (predict_time - actual_time) / actual_time * 100\n",
    "    accuracy = 100 - error\n",
    "    print('file size = {}, acutal time = {:.2f}, predict time = {:.2f}, accuracy = {:.2f}%, error = {:.2f}%'.format(\n",
    "        file_size, actual_time, predict_time, accuracy, error\n",
    "    )) \n",
    "\n",
    "stats(17591, 2.583754)\n"
   ]
  },
  {
   "cell_type": "code",
   "execution_count": 7,
   "metadata": {},
   "outputs": [
    {
     "name": "stdout",
     "output_type": "stream",
     "text": [
      "file size = 185834, acutal time = 13.72, predict time = 9.95, accuracy = 127.49%, error = -27.49%\n"
     ]
    },
    {
     "data": {
      "image/png": "[encoded data removed]",
      "text/plain": [
       "<Figure size 432x288 with 1 Axes>"
      ]
     },
     "metadata": {
      "needs_background": "light"
     },
     "output_type": "display_data"
    }
   ],
   "source": [
    "%matplotlib inline\n",
    "\n",
    "import pandas as pd\n",
    "import matplotlib.pyplot as plt \n",
    "import numpy as np \n",
    "from sklearn import datasets, linear_model, metrics \n",
    "\n",
    "df = pd.read_csv('pass.csv', header=0, dtype={\n",
    "    'file_name': str,\n",
    "    'file_size': int,\n",
    "    'run_time': float,\n",
    "    'time_taken_angr': float,\n",
    "    'time_taken_klee': float,\n",
    "    'passwords': str,\n",
    "    'is_password_cracked_by_angr': bool,\n",
    "    'password_generated_by_angr': str,\n",
    "    'is_password_cracked_by_klee': bool,\n",
    "    'password_generated_by_klee': str,\n",
    "    'file_path': str\n",
    "})\n",
    "\n",
    "df[['_' ,'_' , '_', '_', '_', '_', '_', '_', 'combination', 'obfuscation', '_']] = df.file_path.str.split('/', expand=True)\n",
    "\n",
    "df.combination = df.combination.astype('category')\n",
    "df.obfuscation = df.obfuscation.astype('category')\n",
    "\n",
    "# Load CSV and columns\n",
    "Y = df[(df.combination == 'pass9') & (df.obfuscation == 'CAD')].time_taken_angr\n",
    "X = df[(df.combination == 'pass9') & (df.obfuscation == 'CAD')].file_size\n",
    "\n",
    "X=X.values.reshape(len(X),1)\n",
    "Y=Y.values.reshape(len(Y),1)\n",
    "\n",
    "sample_size = 99\n",
    "# Split the data into training/testing sets\n",
    "X_train = X[:-sample_size]\n",
    "X_test = X[-sample_size:]\n",
    "\n",
    "# Split the targets into training/testing sets\n",
    "Y_train = Y[:-sample_size]\n",
    "Y_test = Y[-sample_size:]\n",
    "\n",
    "# Plot outputs\n",
    "plt.scatter(X_test, Y_test,  color='#f39c12')\n",
    "\n",
    "plt.title('Obfuscation executive - CAD')\n",
    "plt.xlabel('File size')\n",
    "plt.ylabel('Time taken to crack by Angr')\n",
    "\n",
    "\n",
    "regr = linear_model.LinearRegression()\n",
    "\n",
    "# Train the model using the training sets\n",
    "regr.fit(X_train, Y_train)\n",
    "\n",
    "# Plot outputs\n",
    "plt.plot(X_test, regr.predict(X_test), color='#c0392b',linewidth=2)\n",
    "#plt.show()\n",
    "\n",
    "def stats(file_size, actual_time):\n",
    "    predict_time = regr.predict([[file_size]])[0][0]\n",
    "    error = (predict_time - actual_time) / actual_time * 100\n",
    "    accuracy = 100 - error\n",
    "    print('file size = {}, acutal time = {:.2f}, predict time = {:.2f}, accuracy = {:.2f}%, error = {:.2f}%'.format(\n",
    "        file_size, actual_time, predict_time, accuracy, error\n",
    "    )) \n",
    "\n",
    "stats(185834, 13.719730)\n"
   ]
  },
  {
   "cell_type": "code",
   "execution_count": 8,
   "metadata": {},
   "outputs": [
    {
     "name": "stdout",
     "output_type": "stream",
     "text": [
      "file size = 4242392, acutal time = 275.16, predict time = 318.59, accuracy = 84.21%, error = 15.79%\n"
     ]
    },
    {
     "data": {
      "image/png": "[encoded data removed]",
      "text/plain": [
       "<Figure size 432x288 with 1 Axes>"
      ]
     },
     "metadata": {
      "needs_background": "light"
     },
     "output_type": "display_data"
    }
   ],
   "source": [
    "%matplotlib inline\n",
    "\n",
    "import pandas as pd\n",
    "import matplotlib.pyplot as plt \n",
    "import numpy as np \n",
    "from sklearn import datasets, linear_model, metrics \n",
    "\n",
    "df = pd.read_csv('pass.csv', header=0, dtype={\n",
    "    'file_name': str,\n",
    "    'file_size': int,\n",
    "    'run_time': float,\n",
    "    'time_taken_angr': float,\n",
    "    'time_taken_klee': float,\n",
    "    'passwords': str,\n",
    "    'is_password_cracked_by_angr': bool,\n",
    "    'password_generated_by_angr': str,\n",
    "    'is_password_cracked_by_klee': bool,\n",
    "    'password_generated_by_klee': str,\n",
    "    'file_path': str\n",
    "})\n",
    "\n",
    "df[['_' ,'_' , '_', '_', '_', '_', '_', '_', 'combination', 'obfuscation', '_']] = df.file_path.str.split('/', expand=True)\n",
    "\n",
    "df.combination = df.combination.astype('category')\n",
    "df.obfuscation = df.obfuscation.astype('category')\n",
    "\n",
    "# Load CSV and columns\n",
    "Y = df[(df.combination == 'pass9') & (df.obfuscation == 'VACD')].time_taken_angr\n",
    "X = df[(df.combination == 'pass9') & (df.obfuscation == 'VACD')].file_size\n",
    "\n",
    "X=X.values.reshape(len(X),1)\n",
    "Y=Y.values.reshape(len(Y),1)\n",
    "\n",
    "sample_size = 99\n",
    "# Split the data into training/testing sets\n",
    "X_train = X[:-sample_size]\n",
    "X_test = X[-sample_size:]\n",
    "\n",
    "# Split the targets into training/testing sets\n",
    "Y_train = Y[:-sample_size]\n",
    "Y_test = Y[-sample_size:]\n",
    "\n",
    "# Plot outputs\n",
    "plt.scatter(X_test, Y_test,  color='#f39c12')\n",
    "\n",
    "plt.title('Obfuscation executive - VACD')\n",
    "plt.xlabel('File size')\n",
    "plt.ylabel('Time taken to crack by Angr')\n",
    "\n",
    "\n",
    "regr = linear_model.LinearRegression()\n",
    "\n",
    "# Train the model using the training sets\n",
    "regr.fit(X_train, Y_train)\n",
    "\n",
    "# Plot outputs\n",
    "plt.plot(X_test, regr.predict(X_test), color='#c0392b',linewidth=2)\n",
    "#plt.show()\n",
    "\n",
    "def stats(file_size, actual_time):\n",
    "    predict_time = regr.predict([[file_size]])[0][0]\n",
    "    error = (predict_time - actual_time) / actual_time * 100\n",
    "    accuracy = 100 - error\n",
    "    print('file size = {}, acutal time = {:.2f}, predict time = {:.2f}, accuracy = {:.2f}%, error = {:.2f}%'.format(\n",
    "        file_size, actual_time, predict_time, accuracy, error\n",
    "    )) \n",
    "\n",
    "stats(4242392, 275.158915)\n"
   ]
  },
  {
   "cell_type": "code",
   "execution_count": null,
   "metadata": {},
   "outputs": [],
   "source": []
  }
 ],
 "metadata": {
  "kernelspec": {
   "display_name": "Python 3",
   "language": "python",
   "name": "python3"
  },
  "language_info": {
   "codemirror_mode": {
    "name": "ipython",
    "version": 3
   },
   "file_extension": ".py",
   "mimetype": "text/x-python",
   "name": "python",
   "nbconvert_exporter": "python",
   "pygments_lexer": "ipython3",
   "version": "3.8.0"
  }
 },
 "nbformat": 4,
 "nbformat_minor": 2
}
